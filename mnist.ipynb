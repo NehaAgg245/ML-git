{
  "nbformat": 4,
  "nbformat_minor": 0,
  "metadata": {
    "colab": {
      "name": "mnist.ipynb",
      "version": "0.3.2",
      "provenance": [],
      "collapsed_sections": [],
      "include_colab_link": true
    },
    "kernelspec": {
      "name": "python3",
      "display_name": "Python 3"
    },
    "accelerator": "GPU"
  },
  "cells": [
    {
      "cell_type": "markdown",
      "metadata": {
        "id": "view-in-github",
        "colab_type": "text"
      },
      "source": [
        "[View in Colaboratory](https://colab.research.google.com/github/NehaAgg245/ML-git/blob/master/mnist.ipynb)"
      ]
    },
    {
      "metadata": {
        "id": "JeCxJKnAxRS0",
        "colab_type": "code",
        "colab": {
          "base_uri": "https://localhost:8080/",
          "height": 704
        },
        "outputId": "81cba08b-7cf9-4926-a2b1-06274632d2ae"
      },
      "cell_type": "code",
      "source": [
        "import tensorflow as tf \n",
        "import numpy as np\n",
        "import sys\n",
        "import keras\n",
        "import matplotlib\n",
        "# matplotlib.use('TkAgg')\n",
        "import matplotlib.pyplot as plt\n",
        "\n",
        "# Load Dataset\n",
        "mnist = keras.datasets.mnist\n",
        "(trainImages, trainLabels), (testImages, testLabels) = mnist.load_data()\n",
        "\n",
        "# Plotting the data \n",
        "plt.figure()\n",
        "plt.imshow(trainImages[0], aspect = 'auto')\n",
        "plt.grid(False)\n",
        "#plt.show()\n",
        "\n",
        "# Normalize the data\n",
        "trainImages = trainImages/ 255.0\n",
        "testImages = testImages/255.0\n",
        "\n",
        "# Building the model\n",
        "model = keras.Sequential([\n",
        "\tkeras.layers.Flatten(input_shape =(28,28)),\n",
        "\tkeras.layers.Dense(128, activation= 'relu'),\n",
        "\tkeras.layers.Dense(10, activation = 'softmax')])\n",
        "\n",
        "# Model compilation (We can import optimizers from Keras and then change their default value)\n",
        "model.compile(optimizer = 'adam', loss = 'sparse_categorical_crossentropy', metrics = ['accuracy'])\n",
        "\n",
        "# Train the model\n",
        "model.fit(trainImages, trainLabels, epochs = 10)\n"
      ],
      "execution_count": 3,
      "outputs": [
        {
          "output_type": "stream",
          "text": [
            "Epoch 1/10\n",
            "60000/60000 [==============================] - 9s 151us/step - loss: 0.2605 - acc: 0.9249\n",
            "Epoch 2/10\n",
            "60000/60000 [==============================] - 9s 147us/step - loss: 0.1135 - acc: 0.9665\n",
            "Epoch 3/10\n",
            "60000/60000 [==============================] - 9s 147us/step - loss: 0.0772 - acc: 0.9773\n",
            "Epoch 4/10\n",
            "60000/60000 [==============================] - 9s 147us/step - loss: 0.0587 - acc: 0.9819\n",
            "Epoch 5/10\n",
            "60000/60000 [==============================] - 9s 147us/step - loss: 0.0449 - acc: 0.9869\n",
            "Epoch 6/10\n",
            "60000/60000 [==============================] - 9s 147us/step - loss: 0.0354 - acc: 0.9893\n",
            "Epoch 7/10\n",
            "60000/60000 [==============================] - 9s 147us/step - loss: 0.0296 - acc: 0.9906\n",
            "Epoch 8/10\n",
            "60000/60000 [==============================] - 9s 147us/step - loss: 0.0224 - acc: 0.9933\n",
            "Epoch 9/10\n",
            "60000/60000 [==============================] - 9s 148us/step - loss: 0.0186 - acc: 0.9943\n",
            "Epoch 10/10\n",
            "60000/60000 [==============================] - 9s 146us/step - loss: 0.0160 - acc: 0.9950\n"
          ],
          "name": "stdout"
        },
        {
          "output_type": "execute_result",
          "data": {
            "text/plain": [
              "<keras.callbacks.History at 0x7fa2c16b1ac8>"
            ]
          },
          "metadata": {
            "tags": []
          },
          "execution_count": 3
        },
        {
          "output_type": "display_data",
          "data": {
            "image/png": "[encoded data removed]",
            "text/plain": [
              "<matplotlib.figure.Figure at 0x7fa2e7ae2278>"
            ]
          },
          "metadata": {
            "tags": []
          }
        }
      ]
    },
    {
      "metadata": {
        "id": "Xqdc5sS4vv5V",
        "colab_type": "code",
        "colab": {
          "base_uri": "https://localhost:8080/",
          "height": 51
        },
        "outputId": "86741c3e-096c-40ab-973e-04fd69f0bd33"
      },
      "cell_type": "code",
      "source": [
        "# Evaluate the model\n",
        "testLoss , testAccuracy = model.evaluate(testImages, testLabels)\n",
        "print(\"Test accuracy :\", testAccuracy)"
      ],
      "execution_count": 4,
      "outputs": [
        {
          "output_type": "stream",
          "text": [
            "10000/10000 [==============================] - 1s 71us/step\n",
            "Test accuracy : 0.9786\n"
          ],
          "name": "stdout"
        }
      ]
    }
  ]
}